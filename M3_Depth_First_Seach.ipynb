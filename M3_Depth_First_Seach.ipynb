{
  "nbformat": 4,
  "nbformat_minor": 0,
  "metadata": {
    "colab": {
      "provenance": []
    },
    "kernelspec": {
      "name": "python3",
      "display_name": "Python 3"
    },
    "language_info": {
      "name": "python"
    }
  },
  "cells": [
    {
      "cell_type": "markdown",
      "source": [
        "#Depth First Seach\n",
        "##Bima Dharma Yahya\n",
        "##3KA03\n",
        "##10121266"
      ],
      "metadata": {
        "id": "NXFrPwRRtYog"
      }
    },
    {
      "cell_type": "markdown",
      "source": [
        "Mendefinisikan grafik dalam bentuk kamus (dictionary) di Python. Setiap kunci dalam kamus mewakili simpul grafik, dan nilai yang sesuai adalah daftar simpul-simpul yang terhubung langsung dengan simpul tersebut."
      ],
      "metadata": {
        "id": "JwZTKEJouwvY"
      }
    },
    {
      "cell_type": "code",
      "execution_count": null,
      "metadata": {
        "id": "npqjsYXsmTVy"
      },
      "outputs": [],
      "source": [
        "graph = {\n",
        "    'A': ['Z', 'S', 'T'],\n",
        "    'Z': ['O'],\n",
        "    'O': ['S1'],\n",
        "    'S1': ['F', 'R'],\n",
        "    'F': ['B'],\n",
        "    'B': [],\n",
        "    'R': [],\n",
        "    'S': ['O1', 'F1', 'R1'],\n",
        "    'O1': [],\n",
        "    'F1': ['B1'],\n",
        "    'B1': [],\n",
        "    'R1': ['C', 'P'],\n",
        "    'C': [],\n",
        "    'P': [],\n",
        "    'T': ['L'],\n",
        "    'L': ['M'],\n",
        "    'M': ['D'],\n",
        "    'D': []\n",
        "}"
      ]
    },
    {
      "cell_type": "markdown",
      "source": [
        "Inisialisasi himpunan (set) yang akan digunakan untuk melacak simpul-simpul yang telah dikunjungi selama pencarian."
      ],
      "metadata": {
        "id": "V9DpIew4u1BA"
      }
    },
    {
      "cell_type": "code",
      "source": [
        "visited = set()  # Set to keep track of visited nodes."
      ],
      "metadata": {
        "id": "I8BZrO3HmWXo"
      },
      "execution_count": null,
      "outputs": []
    },
    {
      "cell_type": "markdown",
      "source": [
        "Mendefinisikan fungsi dfs yang akan melakukan pencarian DFS. Fungsi ini menerima tiga argumen: visited (himpunan yang berisi simpul-simpul yang telah dikunjungi), graph (representasi grafik), dan node (simpul saat ini yang sedang diproses). Dalam fungsi, pertama-tama dilakukan pemeriksaan apakah simpul saat ini belum dikunjungi. Jika belum, simpul tersebut dicetak, ditambahkan ke himpunan visited, dan dilakukan iterasi melalui notes list (simpul yang terhubung langsung) dari simpul saat ini untuk melakukan rekursi pada fungsi dfs."
      ],
      "metadata": {
        "id": "Q09j--Jiu7qf"
      }
    },
    {
      "cell_type": "code",
      "source": [
        "def dfs(visited, graph, node):\n",
        "    if node not in visited:\n",
        "        print(node)\n",
        "        visited.add(node)\n",
        "        for neighbour in graph[node]:\n",
        "            dfs(visited, graph, neighbour)"
      ],
      "metadata": {
        "id": "0oeQkzBRmXvT"
      },
      "execution_count": null,
      "outputs": []
    },
    {
      "cell_type": "code",
      "source": [
        "print(\"Depth First Search\")"
      ],
      "metadata": {
        "colab": {
          "base_uri": "https://localhost:8080/"
        },
        "id": "I62xei0kmYuj",
        "outputId": "64008522-7daf-4376-c615-00dda7d1ef69"
      },
      "execution_count": null,
      "outputs": [
        {
          "output_type": "stream",
          "name": "stdout",
          "text": [
            "Depth First Search\n"
          ]
        }
      ]
    },
    {
      "cell_type": "markdown",
      "source": [
        "\n",
        "Pencarian menggunakan algoritma Depth First Search (DFS) dimulai dengan memanggil fungsi DFS dengan simpul awal 'A' sebagai titik awal. langkah pertama adalah memeriksa tetangga-tetangga 'A'. Aturan sederhana dari DFS adalah memilih jalur terkiri di setiap percabangan dalam grafik, dan terus melanjutkan hingga tidak ada lagi jalan yang bisa diambil atau sampai kita mencapai titik tujuan (goals). Setiap langkahnya, DFS menjelajahi simpul-simpul tetangga secara berurutan, dimulai dari simpul kiri pertama. Jika simpul tetangga belum dikunjungi, maka DFS akan mengunjungi simpul tersebut dan melanjutkan pencarian dari sana. Proses ini dilakukan secara rekursif hingga ditemukan goals 'A' atau ketika semua simpul telah dikunjungi dan tidak ada lagi yang bisa dikunjungi."
      ],
      "metadata": {
        "id": "Nf1FK6PAv8GY"
      }
    },
    {
      "cell_type": "code",
      "source": [
        "dfs(visited, graph, 'A')"
      ],
      "metadata": {
        "colab": {
          "base_uri": "https://localhost:8080/"
        },
        "id": "tSrupobFmZwn",
        "outputId": "c2b07eb4-e191-4d16-f8c5-c2c7b7ff1883"
      },
      "execution_count": null,
      "outputs": [
        {
          "output_type": "stream",
          "name": "stdout",
          "text": [
            "A\n",
            "Z\n",
            "O\n",
            "S1\n",
            "F\n",
            "B\n",
            "R\n",
            "S\n",
            "O1\n",
            "F1\n",
            "B1\n",
            "R1\n",
            "C\n",
            "P\n",
            "T\n",
            "L\n",
            "M\n",
            "D\n"
          ]
        }
      ]
    }
  ]
}