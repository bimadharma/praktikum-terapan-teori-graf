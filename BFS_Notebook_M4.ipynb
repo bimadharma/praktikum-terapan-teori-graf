{
  "cells": [
    {
      "cell_type": "markdown",
      "source": [
        "#Minggu 4 - Moda Self-Study: Breadth First Search\n",
        "##Bima Dharma Yahya\n",
        "##3KA03\n",
        "##10121266\n"
      ],
      "metadata": {
        "id": "IT4gIPfTaQ_E"
      },
      "id": "IT4gIPfTaQ_E"
    },
    {
      "cell_type": "code",
      "execution_count": null,
      "id": "46e5539e",
      "metadata": {
        "id": "46e5539e"
      },
      "outputs": [],
      "source": [
        "graph = {\n",
        "  'A' : ['Z','S', 'T'],\n",
        "  'Z' : ['O'],\n",
        "  'O' : ['S1'],\n",
        "  'S1' : ['F','R'],\n",
        "  'F' : ['B'],\n",
        "  'B' : [],\n",
        "  'R' : [],\n",
        "  'S' : ['O1', 'F1', 'R1'],\n",
        "  'O1' : [],\n",
        "  'F1' : ['B1'],\n",
        "  'B1' : [],\n",
        "  'R1' : ['C', 'P'],\n",
        "  'C' : [],\n",
        "  'P' : [],\n",
        "  'T' : ['L'],\n",
        "  'L' : ['M'],\n",
        "  'M' : ['D'],\n",
        "  'D' : []\n",
        "}"
      ]
    },
    {
      "cell_type": "markdown",
      "source": [
        "Pertama-tama, definisikan graf yang akan dijelajahi dalam bentuk representasi dengan menggunakan dictionary. Setiap node dalam graf memiliki adjacency list  yang terhubung langsung dengannya. Sebagai contoh, node 'A' memiliki tetangga 'Z', 'S', dan 'T', dan seterusnya."
      ],
      "metadata": {
        "id": "NskGuXBccFlb"
      },
      "id": "NskGuXBccFlb"
    },
    {
      "cell_type": "code",
      "execution_count": null,
      "id": "5b591290",
      "metadata": {
        "id": "5b591290"
      },
      "outputs": [],
      "source": [
        "visited = [] # List for visited nodes.\n",
        "queue = []     #Initialize a queue"
      ]
    },
    {
      "cell_type": "code",
      "execution_count": null,
      "id": "ce9531b3",
      "metadata": {
        "id": "ce9531b3"
      },
      "outputs": [],
      "source": [
        "def bfs(visited, graph, node): #function for BFS\n",
        "  visited.append(node)\n",
        "  queue.append(node)\n",
        "\n",
        "  while queue:          # Creating loop to visit each node\n",
        "    m = queue.pop(0)\n",
        "    print (m, end = \" \")\n",
        "\n",
        "    for neighbour in graph[m]:\n",
        "      if neighbour not in visited:\n",
        "        visited.append(neighbour)\n",
        "        queue.append(neighbour)"
      ]
    },
    {
      "cell_type": "markdown",
      "source": [
        "Setelah itu, kita inisialisasi dua struktur data, yaitu visited (untuk melacak node yang sudah dikunjungi) dan queue (untuk menyimpan node yang akan dikunjungi selanjutnya). Fungsi bfs kemudian didefinisikan untuk melakukan Breadth-First Search. Fungsi ini menerima tiga argumen: visited (untuk melacak node yang sudah dikunjungi), graph (graf yang akan dijelajahi), dan node (node awal dari mana pencarian dimulai)."
      ],
      "metadata": {
        "id": "8o3AtFdgci2M"
      },
      "id": "8o3AtFdgci2M"
    },
    {
      "cell_type": "code",
      "execution_count": null,
      "id": "a1183b58",
      "metadata": {
        "colab": {
          "base_uri": "https://localhost:8080/"
        },
        "id": "a1183b58",
        "outputId": "4125acbd-b895-49e2-c1c7-0ef54001f489"
      },
      "outputs": [
        {
          "output_type": "stream",
          "name": "stdout",
          "text": [
            "Following is the Breadth-First Search\n",
            "A Z S T O O1 F1 R1 L S1 B1 C P M F R D B "
          ]
        }
      ],
      "source": [
        "# Driver Code\n",
        "print(\"Following is the Breadth-First Search\")\n",
        "bfs(visited, graph, 'A')"
      ]
    },
    {
      "cell_type": "markdown",
      "source": [
        "\n",
        "Pada bagian akhir program, kita memanggil fungsi bfs dengan parameter yang sesuai untuk memulai pencarian BFS. Di sini, kita memberikan parameter visited untuk melacak node yang sudah dikunjungi sebelumnya, graph yang merupakan representasi graf yang akan dijelajahi, dan node yang merupakan node awal dari mana pencarian BFS akan dimulai, yaitu node 'A'.\n",
        "\n",
        "Hasil dari proses BFS adalah pencarian dan pencetakan urutan kunjungan node secara BFS. Dalam implementasi ini, setiap kali sebuah node dikunjungi, node tersebut akan dicetak. Output dari BFS akan menampilkan urutan kunjungan node dari node awal 'A' ke semua node yang terhubung secara lebar dalam graf."
      ],
      "metadata": {
        "id": "vsNoQGLDc_GN"
      },
      "id": "vsNoQGLDc_GN"
    }
  ],
  "metadata": {
    "kernelspec": {
      "display_name": "Python 3 (ipykernel)",
      "language": "python",
      "name": "python3"
    },
    "language_info": {
      "codemirror_mode": {
        "name": "ipython",
        "version": 3
      },
      "file_extension": ".py",
      "mimetype": "text/x-python",
      "name": "python",
      "nbconvert_exporter": "python",
      "pygments_lexer": "ipython3",
      "version": "3.8.10"
    },
    "colab": {
      "provenance": []
    }
  },
  "nbformat": 4,
  "nbformat_minor": 5
}