{
  "nbformat": 4,
  "nbformat_minor": 0,
  "metadata": {
    "colab": {
      "provenance": []
    },
    "kernelspec": {
      "name": "python3",
      "display_name": "Python 3"
    },
    "language_info": {
      "name": "python"
    }
  },
  "cells": [
    {
      "cell_type": "markdown",
      "source": [
        "# Bima Dharma Yahya\n",
        "#3KA03\n",
        "# 10121266"
      ],
      "metadata": {
        "id": "gg57QXJSK9GU"
      }
    },
    {
      "cell_type": "markdown",
      "source": [
        "# Pengenalan Tree\n",
        "\n",
        "\n",
        "\n",
        "\n",
        "---\n",
        "\n",
        "*   Tree tidak berarah dan tidak memiliki Cycle\n",
        "*   Tree adalah sebuah graph yang memiliki node N dan Edge N-1\n",
        "\n",
        "**Contoh  Penggunaan melalui Linux (/)**\n",
        "\n",
        "*  bin/\n",
        "*  dev/\n",
        "*  etc/\n",
        "*  usr/ peranakannya (bin/ man/ lib/ local/ share/)\n",
        "*   home/\n",
        "*   lib/\n",
        "*   sbin/\n",
        "*   tmp/\n",
        "*   var/ peranakannya (log/ lock/ tmp/)\n",
        "\n",
        "**Contoh Penggunaan melalui matematikawan ((X+6) * -3) > (2-y)**\n",
        "\n",
        ">|-|2|y\n",
        ">|*|-3\n",
        "*|+|6\n",
        "+|x\n",
        "\n",
        "**Menyimpan Tree(List)**\n",
        "*   Edge list storage representation\n",
        "*   [(0,1),(1,4),(4,5),(4,8),(1,3),(3,7),(3,6),(2,3),(6,9)]\n",
        "\n",
        "\n",
        "(+) sangat cepat\n",
        "(-) tidak efisien\n",
        "\n",
        "\n",
        "\n",
        "**Rooted Tree**\n",
        "\n",
        "*   Tree yang memiliki root node\n",
        "\n",
        "**Binary Tree**\n",
        "*   Tree yang memiliki dua node anak\n",
        "\n",
        "\n",
        "\n",
        "\n",
        "\n",
        "\n",
        "\n"
      ],
      "metadata": {
        "id": "d2pwVLx9Mdq-"
      }
    },
    {
      "cell_type": "markdown",
      "source": [
        "#Contoh 1"
      ],
      "metadata": {
        "id": "oHn15TyPkzej"
      }
    },
    {
      "cell_type": "code",
      "source": [
        "!pip install anytree"
      ],
      "metadata": {
        "colab": {
          "base_uri": "https://localhost:8080/"
        },
        "id": "vLM4-LPSlYMY",
        "outputId": "12dbf9ff-96a1-4524-d40e-681048061486"
      },
      "execution_count": 2,
      "outputs": [
        {
          "output_type": "stream",
          "name": "stdout",
          "text": [
            "Collecting anytree\n",
            "  Downloading anytree-2.12.1-py3-none-any.whl (44 kB)\n",
            "\u001b[?25l     \u001b[90m━━━━━━━━━━━━━━━━━━━━━━━━━━━━━━━━━━━━━━━━\u001b[0m \u001b[32m0.0/44.9 kB\u001b[0m \u001b[31m?\u001b[0m eta \u001b[36m-:--:--\u001b[0m\r\u001b[2K     \u001b[90m━━━━━━━━━━━━━━━━━━━━━━━━━━━━━━━━━━━━━━━━\u001b[0m \u001b[32m44.9/44.9 kB\u001b[0m \u001b[31m1.1 MB/s\u001b[0m eta \u001b[36m0:00:00\u001b[0m\n",
            "\u001b[?25hRequirement already satisfied: six in /usr/local/lib/python3.10/dist-packages (from anytree) (1.16.0)\n",
            "Installing collected packages: anytree\n",
            "Successfully installed anytree-2.12.1\n"
          ]
        }
      ]
    },
    {
      "cell_type": "markdown",
      "source": [
        "\n",
        "!pip install anytree adalah perintah Python untuk menginstal pustaka anytree, yang memungkinkan pengguna untuk bekerja dengan struktur data pohon secara mudah dan efisien dalam bahasa pemrograman Python.\n",
        "\n",
        "\n",
        "\n",
        "\n"
      ],
      "metadata": {
        "id": "ShK_MZrsmBxA"
      }
    },
    {
      "cell_type": "code",
      "source": [
        "from anytree import Node, RenderTree"
      ],
      "metadata": {
        "id": "X10DY9I8NeiE"
      },
      "execution_count": 3,
      "outputs": []
    },
    {
      "cell_type": "markdown",
      "source": [
        "Baris kode from anytree import Node, RenderTree mengimpor dua kelas utama dari pustaka anytree yaitu Node dan RenderTree. Node digunakan untuk mengelola simpul dalam struktur pohon, sedangkan RenderTree digunakan untuk merender pohon secara visual."
      ],
      "metadata": {
        "id": "SrnRWT2TmE6Y"
      }
    },
    {
      "cell_type": "code",
      "source": [
        "root = Node(10)"
      ],
      "metadata": {
        "id": "dgCmblWEQ9if"
      },
      "execution_count": 4,
      "outputs": []
    },
    {
      "cell_type": "markdown",
      "source": [
        "membuat sebuah simpul baru dalam pohon dengan nilai 10 dan menetapkannya sebagai akar (root) dari pohon."
      ],
      "metadata": {
        "id": "_PMlI_pDmmXX"
      }
    },
    {
      "cell_type": "code",
      "source": [
        "level_1_child_1 = Node(34, parent=root)\n",
        "level_1_child_2 = Node(89, parent=root)\n",
        "level_2_child_1 = Node(45, parent=level_1_child_1)\n",
        "level_2_child_2 = Node(50, parent=level_1_child_2)"
      ],
      "metadata": {
        "id": "0UV0LetORBQY"
      },
      "execution_count": 5,
      "outputs": []
    },
    {
      "cell_type": "markdown",
      "source": [
        "Kode ini membuat simpul-simpul baru dalam pohon yang sudah dibuat sebelumnya. Dua simpul pertama (level_1_child_1 dan level_1_child_2) menjadi anak langsung dari akar (root), sementara dua simpul berikutnya (level_2_child_1 dan level_2_child_2) menjadi anak langsung dari simpul-simpul di level pertama sesuai dengan argumen parent yang diberikan."
      ],
      "metadata": {
        "id": "0J7JYVVDmu53"
      }
    },
    {
      "cell_type": "code",
      "source": [
        "for pre, fill, node in RenderTree(root):\n",
        "    print(\"%s%s\" % (pre, node.name))"
      ],
      "metadata": {
        "id": "RfLfclo1RGOQ",
        "colab": {
          "base_uri": "https://localhost:8080/"
        },
        "outputId": "965d364a-0ea0-429d-9a44-0233dde27c3a"
      },
      "execution_count": 9,
      "outputs": [
        {
          "output_type": "stream",
          "name": "stdout",
          "text": [
            "10\n",
            "├── 34\n",
            "│   └── 45\n",
            "└── 89\n",
            "    └── 50\n"
          ]
        }
      ]
    },
    {
      "cell_type": "markdown",
      "source": [
        "menggunakan metode RenderTree dari pustaka anytree untuk merender struktur pohon yang telah dibuat sebelumnya (root). Kemudian, dalam loop, setiap simpul dari pohon dicetak dengan menyertakan indentasi untuk menunjukkan tingkat kedalamannya.\n",
        "\n",
        "\n",
        "\n",
        "\n",
        "\n"
      ],
      "metadata": {
        "id": "DjhBzUVInDen"
      }
    },
    {
      "cell_type": "markdown",
      "source": [
        "#Contoh 2"
      ],
      "metadata": {
        "id": "zQ3eo0aWk6tY"
      }
    },
    {
      "cell_type": "code",
      "source": [
        "!pip install binarytree"
      ],
      "metadata": {
        "colab": {
          "base_uri": "https://localhost:8080/"
        },
        "id": "9p3-lG8-lulw",
        "outputId": "d4e68f53-fe8b-48ec-982b-3107b0a0eef6"
      },
      "execution_count": 10,
      "outputs": [
        {
          "output_type": "stream",
          "name": "stdout",
          "text": [
            "Collecting binarytree\n",
            "  Downloading binarytree-6.5.1-py3-none-any.whl (18 kB)\n",
            "Requirement already satisfied: graphviz in /usr/local/lib/python3.10/dist-packages (from binarytree) (0.20.3)\n",
            "Requirement already satisfied: setuptools>=60.8.2 in /usr/local/lib/python3.10/dist-packages (from binarytree) (67.7.2)\n",
            "Collecting setuptools-scm[toml]>=5.0.1 (from binarytree)\n",
            "  Downloading setuptools_scm-8.0.4-py3-none-any.whl (42 kB)\n",
            "\u001b[2K     \u001b[90m━━━━━━━━━━━━━━━━━━━━━━━━━━━━━━━━━━━━━━━━\u001b[0m \u001b[32m42.1/42.1 kB\u001b[0m \u001b[31m1.9 MB/s\u001b[0m eta \u001b[36m0:00:00\u001b[0m\n",
            "\u001b[?25hRequirement already satisfied: packaging>=20 in /usr/local/lib/python3.10/dist-packages (from setuptools-scm[toml]>=5.0.1->binarytree) (24.0)\n",
            "Requirement already satisfied: typing-extensions in /usr/local/lib/python3.10/dist-packages (from setuptools-scm[toml]>=5.0.1->binarytree) (4.11.0)\n",
            "Requirement already satisfied: tomli>=1 in /usr/local/lib/python3.10/dist-packages (from setuptools-scm[toml]>=5.0.1->binarytree) (2.0.1)\n",
            "Installing collected packages: setuptools-scm, binarytree\n",
            "Successfully installed binarytree-6.5.1 setuptools-scm-8.0.4\n"
          ]
        }
      ]
    },
    {
      "cell_type": "markdown",
      "source": [
        "\n",
        "Perintah !pip install binarytree digunakan untuk menginstal pustaka Python bernama binarytree. Pustaka ini menyediakan alat-alat untuk membuat, memanipulasi, dan menampilkan pohon biner dalam bahasa pemrograman Python."
      ],
      "metadata": {
        "id": "nPkSLszfnSt5"
      }
    },
    {
      "cell_type": "code",
      "source": [
        "from binarytree import build"
      ],
      "metadata": {
        "id": "XiWiTqjilC08"
      },
      "execution_count": 11,
      "outputs": []
    },
    {
      "cell_type": "markdown",
      "source": [
        "kode from binarytree import build mengimpor fungsi build dari pustaka binarytree ke dalam lingkungan pemrograman Python. Fungsi build digunakan untuk membangun (membuat) pohon biner dari daftar atau array yang diberikan sebagai argumen masukan."
      ],
      "metadata": {
        "id": "PlelMgUCnaW_"
      }
    },
    {
      "cell_type": "code",
      "source": [
        "# List of nodes\n",
        "nodes =[3, 6, 8, 2, 11, None, 13]"
      ],
      "metadata": {
        "id": "oeQhcNMmlFO4"
      },
      "execution_count": 12,
      "outputs": []
    },
    {
      "cell_type": "markdown",
      "source": [
        "mendefinisikan sebuah list yang berisi node-node dari pohon biner. Node-node ini direpresentasikan oleh nilai-nilai integer yang menunjukkan nilai dari setiap node, dengan None digunakan untuk mewakili node yang kosong (tidak memiliki anak)."
      ],
      "metadata": {
        "id": "fILL2lXCnhEY"
      }
    },
    {
      "cell_type": "code",
      "source": [
        "binary_tree = build(nodes)\n",
        "print('Binary tree from list :\\n',\n",
        "      binary_tree)"
      ],
      "metadata": {
        "colab": {
          "base_uri": "https://localhost:8080/"
        },
        "id": "cXIStei9lFgo",
        "outputId": "326cd93a-ec82-463f-fc3a-9d8da5947846"
      },
      "execution_count": 13,
      "outputs": [
        {
          "output_type": "stream",
          "name": "stdout",
          "text": [
            "Binary tree from list :\n",
            " \n",
            "    ___3\n",
            "   /    \\\n",
            "  6      8\n",
            " / \\      \\\n",
            "2   11     13\n",
            "\n"
          ]
        }
      ]
    },
    {
      "cell_type": "markdown",
      "source": [
        "menggunakan fungsi build dari pustaka binarytree untuk membangun pohon biner dari list nodes yang telah didefinisikan sebelumnya. Kemudian, pohon biner yang dibangun tersebut dicetak untuk ditampilkan dalam bentuk visual.\n",
        "\n",
        "\n",
        "\n",
        "\n",
        "\n"
      ],
      "metadata": {
        "id": "SN_zLdthnnIB"
      }
    },
    {
      "cell_type": "code",
      "source": [
        "# Getting list of nodes from\n",
        "# binarytree\n",
        "print('\\nList from binary tree :',\n",
        "      binary_tree.values)"
      ],
      "metadata": {
        "colab": {
          "base_uri": "https://localhost:8080/"
        },
        "id": "w6Gy8M1ulJyv",
        "outputId": "10457f65-40fa-4884-8a8f-0bf57722bf42"
      },
      "execution_count": 14,
      "outputs": [
        {
          "output_type": "stream",
          "name": "stdout",
          "text": [
            "\n",
            "List from binary tree : [3, 6, 8, 2, 11, None, 13]\n"
          ]
        }
      ]
    },
    {
      "cell_type": "markdown",
      "source": [
        "mengakses atribut values dari pohon biner yang telah dibangun sebelumnya menggunakan fungsi build dari pustaka binarytree. Atribut ini memberikan daftar nilai-nilai dari setiap node dalam pohon biner tersebut, yang kemudian dicetak untuk ditampilkan."
      ],
      "metadata": {
        "id": "cNBj0QF9nt6_"
      }
    }
  ]
}